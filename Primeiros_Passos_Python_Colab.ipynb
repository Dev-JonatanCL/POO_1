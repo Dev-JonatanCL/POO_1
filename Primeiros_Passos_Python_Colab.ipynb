{
  "cells": [
    {
      "cell_type": "markdown",
      "source": [
        "###1)Criar a narrativa, o pseudocódigo, o fluxograma e código de um programa que solicite ao usuário digitar uma temperatura em farenheit e convertê-la e exibir o resultado em graus Celsius. Onde C = (5/9)(F-32)"
      ],
      "metadata": {
        "id": "4rQBBdWmlKPF"
      }
    },
    {
      "cell_type": "code",
      "source": [
        "F = float(input(\"Digite valor em Graus Farenheit: \"))\n",
        "C = (5/9)*(F-32)\n",
        "print(f\"O valor de {F}°F correspondente ao valor de {C}°C\")\n"
      ],
      "metadata": {
        "id": "D3ldmeR5hPGD"
      },
      "execution_count": null,
      "outputs": []
    },
    {
      "cell_type": "markdown",
      "source": [
        "###2) Criar a narrativa, o pseudocódigo, o fluxograma e código de um programa que solicite ao usuário digitar uma medida em polegadas, elaborar um programa para converter o valor dado para milímetros. (1”=25,4mm)."
      ],
      "metadata": {
        "id": "phiQi7Z7nHEh"
      }
    },
    {
      "cell_type": "code",
      "source": [
        "P = float(input(\"Digite valor em Polegadas: \"))\n",
        "MM = P*25.4\n",
        "print(f\"O valor de {P}pol corresponde ao valor de {MM:1f}mm\")"
      ],
      "metadata": {
        "id": "GkEww9YenIch"
      },
      "execution_count": null,
      "outputs": []
    },
    {
      "cell_type": "markdown",
      "source": [
        "###3) Criar a narrativa, o pseudocódigo, o fluxograma e código de um programa que solicite ao usuário digitar uma medida em milímetros, elaborar um programa para converter o valor dado para polegadas."
      ],
      "metadata": {
        "id": "r4poJHedqCvh"
      }
    },
    {
      "cell_type": "code",
      "source": [
        "M = float(input(\"Digite a medida em milímetros: \"))\n",
        "P = M/25.4\n",
        "print(f\"A medida de {M}mm corresponde a {P: .2f} pol.\")"
      ],
      "metadata": {
        "id": "QLF3SUvmqE0J"
      },
      "execution_count": null,
      "outputs": []
    },
    {
      "cell_type": "markdown",
      "source": [
        "###4) Criar a narrativa, o pseudocódigo, o fluxograma e código de um programa que solicite ao usuário digitar sua idade e em seguida, faça a verificação do valor; assim, se idade maior ou igual a 16 anos e menor que 70 anos, o programa deve retornar a mensagem “Você pode votar”. No caso contrário, ou seja, se menor que 16 anos ou maior que 70 anos “Sinto muito, infelizmente você não pode votar!”.\n",
        "\n"
      ],
      "metadata": {
        "id": "VJ7DB8TEv-fw"
      }
    },
    {
      "cell_type": "code",
      "source": [
        "idade = int(input(\"Digite sua idade: \"))\n",
        "if idade >= 16 and idade < 70:\n",
        "  print(\"Você pode Votar !\")\n",
        "else:\n",
        "  print(\"Você não pode votar !\")"
      ],
      "metadata": {
        "id": "mXXIT5Tzv_K5"
      },
      "execution_count": null,
      "outputs": []
    },
    {
      "cell_type": "markdown",
      "source": [
        "###5) Criar a narrativa, pseudocódigo, fluxograma e código para um programa que receba o raio (r) de uma esfera, e em seguida calcule e exibir o seu volume (v) desta esfera."
      ],
      "metadata": {
        "id": "dkZvPEBgwDqB"
      }
    },
    {
      "cell_type": "code",
      "source": [
        "import math\n",
        "r = float(input(\"Digite o raio da esfera: \"))\n",
        "v = 4*math.pi*(r*r*r)/3\n",
        "print(f\"O volume da esfera com raio de {r}cm é {v: .2f}cm³.\")"
      ],
      "metadata": {
        "id": "TyUvBX53wEOg"
      },
      "execution_count": null,
      "outputs": []
    },
    {
      "cell_type": "markdown",
      "source": [
        "###6) Criar a narrativa, pseudocódigo, fluxograma e código para um programa que receba um ângulo (g) em graus, e converta este valor para radianos (r)."
      ],
      "metadata": {
        "id": "KQcvbPJawHhB"
      }
    },
    {
      "cell_type": "code",
      "source": [
        "import math\n",
        "g = float(input(\"Digite o ângulo em graus: \"))\n",
        "r = g*math.pi/180\n",
        "print(f\"O valor do ângulo de {g}° é equivalente a {r: .3f} radianos.\")"
      ],
      "metadata": {
        "id": "tCyGuH4_wIAY"
      },
      "execution_count": null,
      "outputs": []
    },
    {
      "cell_type": "markdown",
      "source": [
        "###7) Criar a narrativa, pseudocódigo, fluxograma e código para um programa que receba o valor de um ângulo em radianos, e converta este valor para graus."
      ],
      "metadata": {
        "id": "CFvoTOjzwLnJ"
      }
    },
    {
      "cell_type": "code",
      "source": [
        "import math\n",
        "rad = float(input(\"Digite o ângulo em radianos: \"))\n",
        "gr = rad*(180/math.pi)\n",
        "print(f\"O valor do Radiano {rad} convertido para graus é {gr}\")"
      ],
      "metadata": {
        "id": "YO7T_W-QwMYX"
      },
      "execution_count": null,
      "outputs": []
    },
    {
      "cell_type": "markdown",
      "source": [
        "###8) Criar a narrativa, pseudocódigo, fluxograma e código para um programa que receba ângulo em radianos, e converta este valor para grados. Lembrar que 400 grados equivalem a 27."
      ],
      "metadata": {
        "id": "UQEN7rr5wQ7M"
      }
    },
    {
      "cell_type": "code",
      "source": [
        "import math\n",
        "rad = float(input(\"Digite o ângulo em radianos: \"))\n",
        "gon = rad*(200/math.pi)\n",
        "print(f\"O valor do Radiano {rad}rad em grados é {gon: .2f}gon\")"
      ],
      "metadata": {
        "id": "Ks2nU-CFwRe4"
      },
      "execution_count": null,
      "outputs": []
    }
  ],
  "metadata": {
    "colab": {
      "toc_visible": true,
      "provenance": []
    },
    "kernelspec": {
      "display_name": "Python 3",
      "name": "python3"
    }
  },
  "nbformat": 4,
  "nbformat_minor": 0
}