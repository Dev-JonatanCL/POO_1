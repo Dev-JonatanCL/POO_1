{
  "cells": [
    {
      "cell_type": "markdown",
      "metadata": {
        "id": "view-in-github",
        "colab_type": "text"
      },
      "source": [
        "<a href=\"https://colab.research.google.com/github/Dev-JonatanCL/POO_1/blob/main/Ol%C3%A1%2C_este_%C3%A9_o_Colaboratory.ipynb\" target=\"_parent\"><img src=\"https://colab.research.google.com/assets/colab-badge.svg\" alt=\"Open In Colab\"/></a>"
      ]
    },
    {
      "cell_type": "markdown",
      "source": [
        "#EX01"
      ],
      "metadata": {
        "id": "4rQBBdWmlKPF"
      }
    },
    {
      "cell_type": "code",
      "source": [
        "F = float(input(\"Digite valor em Graus Farenheit: \"))\n",
        "C = (5/9)*(F-32)\n",
        "print(f\"O valor de {F}°F correspondente ao valor de {C}°C\")\n"
      ],
      "metadata": {
        "id": "D3ldmeR5hPGD"
      },
      "execution_count": null,
      "outputs": []
    },
    {
      "cell_type": "markdown",
      "source": [
        "# EX02"
      ],
      "metadata": {
        "id": "phiQi7Z7nHEh"
      }
    },
    {
      "cell_type": "code",
      "source": [
        "P = float(input(\"Digite valor em Polegadas: \"))\n",
        "MM = P*25.4\n",
        "print(f\"O valor de {P}pol corresponde ao valor de {MM:1f}mm\")"
      ],
      "metadata": {
        "id": "GkEww9YenIch"
      },
      "execution_count": null,
      "outputs": []
    },
    {
      "cell_type": "markdown",
      "source": [
        "# EX03"
      ],
      "metadata": {
        "id": "r4poJHedqCvh"
      }
    },
    {
      "cell_type": "code",
      "source": [
        "idade = int(input(\"Digite sua idade: \"))\n",
        "if idade >= 18:\n",
        "  print(\"Pode Votar\")\n",
        "else:\n",
        "  print(\"Não pode Votar\")"
      ],
      "metadata": {
        "id": "QLF3SUvmqE0J"
      },
      "execution_count": null,
      "outputs": []
    },
    {
      "cell_type": "markdown",
      "source": [
        "# EX04\n"
      ],
      "metadata": {
        "id": "VJ7DB8TEv-fw"
      }
    },
    {
      "cell_type": "code",
      "source": [],
      "metadata": {
        "id": "mXXIT5Tzv_K5"
      },
      "execution_count": null,
      "outputs": []
    },
    {
      "cell_type": "markdown",
      "source": [
        "# EX05"
      ],
      "metadata": {
        "id": "dkZvPEBgwDqB"
      }
    },
    {
      "cell_type": "code",
      "source": [],
      "metadata": {
        "id": "TyUvBX53wEOg"
      },
      "execution_count": null,
      "outputs": []
    },
    {
      "cell_type": "markdown",
      "source": [
        "# EX06"
      ],
      "metadata": {
        "id": "KQcvbPJawHhB"
      }
    },
    {
      "cell_type": "code",
      "source": [],
      "metadata": {
        "id": "tCyGuH4_wIAY"
      },
      "execution_count": null,
      "outputs": []
    },
    {
      "cell_type": "markdown",
      "source": [
        "# EX07"
      ],
      "metadata": {
        "id": "CFvoTOjzwLnJ"
      }
    },
    {
      "cell_type": "code",
      "source": [
        "import math\n",
        "R = float(input(\"Digite o valor do Radiano: \"))\n",
        "G = R*(180/math.pi)\n",
        "print(f\"O valor do Radiano {R} convertido para graus é {G}\")"
      ],
      "metadata": {
        "id": "YO7T_W-QwMYX",
        "outputId": "a28a24bd-737c-474c-c60e-8ff5f1d7919e",
        "colab": {
          "base_uri": "https://localhost:8080/"
        }
      },
      "execution_count": 30,
      "outputs": [
        {
          "output_type": "stream",
          "name": "stdout",
          "text": [
            "Digite o valor do Radiano: 1\n",
            "O valor do Radiano 1.0 convertido para graus é 57.29577951308232\n"
          ]
        }
      ]
    },
    {
      "cell_type": "markdown",
      "source": [
        "# EX08"
      ],
      "metadata": {
        "id": "UQEN7rr5wQ7M"
      }
    },
    {
      "cell_type": "code",
      "source": [],
      "metadata": {
        "id": "Ks2nU-CFwRe4"
      },
      "execution_count": null,
      "outputs": []
    }
  ],
  "metadata": {
    "colab": {
      "name": "Olá, este é o Colaboratory",
      "toc_visible": true,
      "provenance": [],
      "include_colab_link": true
    },
    "kernelspec": {
      "display_name": "Python 3",
      "name": "python3"
    }
  },
  "nbformat": 4,
  "nbformat_minor": 0
}